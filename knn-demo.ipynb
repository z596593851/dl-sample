{
 "cells": [
  {
   "cell_type": "code",
   "execution_count": 46,
   "metadata": {},
   "outputs": [
    {
     "data": {
      "image/png": "[encoded data removed]",
      "text/plain": [
       "<Figure size 432x288 with 1 Axes>"
      ]
     },
     "metadata": {
      "needs_background": "light"
     },
     "output_type": "display_data"
    }
   ],
   "source": [
    "#coding:utf-8\n",
    "import numpy as np\n",
    "import matplotlib.pyplot as plt\n",
    "import operator\n",
    "\n",
    "#数据集\n",
    "dataSet = np.array([[0.1,1.4],[0.4,2.5],[0.3,3.0],[0.2,2.5],[0.25,2.0],[0.3,3.5],\n",
    "               [1.1,1.0],[1.0,1.5],[1.1,1.5],[1.0,2.0],[1.2,0.1],\n",
    "               [0.6,0.5],[0.7,0.5],[0.6,1.0],\n",
    "              ])\n",
    "labels = [0,0,0,0,0,0,1,1,1,1,1,2,2,2]\n",
    "#测试用例\n",
    "input = np.array([0.2,3.5])\n",
    "x_axis = dataSet[:,0]\n",
    "y_axis = dataSet[:,1]\n",
    "plt.scatter(x_axis, y_axis, c=labels)\n",
    "plt.plot(input[0], input[1],'ro')\n",
    "plt.show()"
   ]
  },
  {
   "cell_type": "code",
   "execution_count": 47,
   "metadata": {},
   "outputs": [
    {
     "name": "stdout",
     "output_type": "stream",
     "text": [
      "分类结果为： 0\n"
     ]
    }
   ],
   "source": [
    "k=3\n",
    "#计算欧式距离\n",
    "dataSize = dataSet.shape[0]\n",
    "diff = np.tile(input,(dataSize,1)) - dataSet\n",
    "sqdiff = diff ** 2\n",
    "#行向量分别相加，从而得到新的一个行向量\n",
    "squareDist = np.sum(sqdiff,axis = 1)\n",
    "dist = squareDist ** 0.5\n",
    "#对距离进行排序,返回下标\n",
    "sortedDistIndex = np.argsort(dist)\n",
    "classCount={}\n",
    "for i in range(k):\n",
    "    voteLabel = labels[sortedDistIndex[i]]\n",
    "    classCount[voteLabel] = classCount.get(voteLabel,0) + 1\n",
    "#选取出现的类别次数最多的类别\n",
    "maxCount = 0\n",
    "classes=0\n",
    "for key,value in classCount.items():\n",
    "    if value > maxCount:\n",
    "        maxCount = value\n",
    "        classes = key\n",
    "print(\"分类结果为：\",classes)"
   ]
  },
  {
   "cell_type": "code",
   "execution_count": null,
   "metadata": {},
   "outputs": [],
   "source": []
  },
  {
   "cell_type": "code",
   "execution_count": null,
   "metadata": {},
   "outputs": [],
   "source": []
  },
  {
   "cell_type": "code",
   "execution_count": null,
   "metadata": {},
   "outputs": [],
   "source": []
  }
 ],
 "metadata": {
  "kernelspec": {
   "display_name": "Python 3",
   "language": "python",
   "name": "python3"
  },
  "language_info": {
   "codemirror_mode": {
    "name": "ipython",
    "version": 3
   },
   "file_extension": ".py",
   "mimetype": "text/x-python",
   "name": "python",
   "nbconvert_exporter": "python",
   "pygments_lexer": "ipython3",
   "version": "3.7.6"
  }
 },
 "nbformat": 4,
 "nbformat_minor": 4
}
