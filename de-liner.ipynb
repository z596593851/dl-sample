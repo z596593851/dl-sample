{
 "cells": [
  {
   "cell_type": "code",
   "execution_count": null,
   "metadata": {},
   "outputs": [],
   "source": [
    "import torch \n",
    "import matplotlib.pyplot as plt\n",
    "\n",
    "def create_linear_data(nums_data, if_plot= False):\n",
    "    x = torch.linspace(-2,2,nums_data)\n",
    "    x = torch.unsqueeze(x,dim=1)\n",
    "    y = x.pow(2) + torch.rand(x.size())\n",
    "    \n",
    "    if if_plot:\n",
    "        plt.scatter(x.numpy(),y.numpy(),c=x.numpy())\n",
    "        plt.show()\n",
    "    data = {\"x\":x, \"y\":y}\n",
    "    return data\n",
    "\n",
    "data = create_linear_data(100, if_plot=True)"
   ]
  },
  {
   "cell_type": "code",
   "execution_count": 5,
   "metadata": {},
   "outputs": [],
   "source": [
    "class Net(torch.nn.Module):\n",
    "    def __init__(self):\n",
    "        super(Net,self).__init__()\n",
    "        self.hidden=torch.nn.Linear(1,100)\n",
    "        self.out=torch.nn.Linear(100,1)\n",
    "    def forward(self,x):\n",
    "        x = torch.nn.functional.relu(self.hidden(x))\n",
    "        x=torch.nn.functional.relu(self.out(x))\n",
    "        return x"
   ]
  },
  {
   "cell_type": "code",
   "execution_count": null,
   "metadata": {},
   "outputs": [],
   "source": [
    "class Linear_Model():\n",
    "    def __init__(self):\n",
    "        self.learning_rate = 0.001\n",
    "        self.epoches = 10000\n",
    "        self.loss_function = torch.nn.MSELoss()\n",
    "        self.create_model()\n",
    "        \n",
    "    def create_model(self):\n",
    "        self.model = Net()\n",
    "        self.optimizer = torch.optim.SGD(self.model.parameters(), lr=self.learning_rate)\n",
    "\n",
    "    def train(self, data):\n",
    "        x = data[\"x\"]\n",
    "        y = data[\"y\"]\n",
    "        \n",
    "        num_pictures = 16\n",
    "        fig = plt.figure(figsize=(10,10))\n",
    "        current_fig = 0\n",
    "        for epoch in range(self.epoches):\n",
    "            prediction = self.model(x)\n",
    "            loss = self.loss_function(prediction, y)\n",
    "\n",
    "            self.optimizer.zero_grad()\n",
    "            loss.backward()\n",
    "            self.optimizer.step()\n",
    "            \n",
    "            if epoch % 500 == 0:\n",
    "                print(\"epoch: {}, loss is: {}\".format(epoch, loss.item()))\n",
    "            \n",
    "            if epoch % (self.epoches/num_pictures) == 0:\n",
    "                current_fig += 1\n",
    "                plt.subplot(4, 4, current_fig)\n",
    "                plt.scatter(x.numpy(), y.numpy(), c=x.numpy())\n",
    "                plt.plot(x.numpy(), prediction.detach().numpy(), color=\"r\")\n",
    "        plt.show()\n",
    "            \n",
    "linear = Linear_Model()\n",
    "data = create_linear_data(20)\n",
    "linear.train(data)"
   ]
  },
  {
   "cell_type": "code",
   "execution_count": null,
   "metadata": {},
   "outputs": [],
   "source": []
  }
 ],
 "metadata": {
  "kernelspec": {
   "display_name": "Python 3",
   "language": "python",
   "name": "python3"
  },
  "language_info": {
   "codemirror_mode": {
    "name": "ipython",
    "version": 3
   },
   "file_extension": ".py",
   "mimetype": "text/x-python",
   "name": "python",
   "nbconvert_exporter": "python",
   "pygments_lexer": "ipython3",
   "version": "3.7.6"
  }
 },
 "nbformat": 4,
 "nbformat_minor": 4
}
